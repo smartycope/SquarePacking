{
  "cells": [
    {
      "cell_type": "code",
      "execution_count": null,
      "metadata": {},
      "outputs": [],
      "source": [
        "!pip install --upgrade gymnasium shapely protobuf pip tensorflow"
      ]
    },
    {
      "cell_type": "code",
      "execution_count": null,
      "metadata": {
        "id": "9sRm1LPDLuiD"
      },
      "outputs": [],
      "source": [
        "from typing import Union, Tuple, List\n",
        "from PIL import Image, ImageDraw\n",
        "import math\n",
        "import random\n",
        "from sympy import flatten\n",
        "from numpy.linalg import norm\n",
        "\n",
        "import numpy as np\n",
        "from typing import List, Tuple\n",
        "import math\n",
        "from math import cos, sin, tan, pi\n",
        "from shapely.geometry import MultiPolygon, Polygon, Point\n",
        "from shapely.affinity import rotate\n",
        "from shapely.ops import unary_union\n",
        "\n",
        "import gymnasium as gym\n",
        "\n",
        "import tensorflow as tf\n",
        "from tensorflow import keras\n",
        "from tensorflow.keras import layers"
      ]
    },
    {
      "cell_type": "markdown",
      "metadata": {
        "id": "SiuYw_AskpyL"
      },
      "source": [
        "# First Attempt"
      ]
    },
    {
      "cell_type": "code",
      "execution_count": null,
      "metadata": {
        "id": "vqtD0zVfQDK4"
      },
      "outputs": [],
      "source": [
        "# Finds the straight-line distance between two points\n",
        "def dist(ax, ay, bx, by):\n",
        "    # return norm(np.array((ax, ay))-np.array((bx, by)))\n",
        "    return math.sqrt((by - ay)**2 + (bx - ax)**2)\n",
        "\n",
        "# Rotates point `A` about point `B` by `angle` radians clockwise.\n",
        "def rotated_about(ax, ay, bx, by, angle):\n",
        "    radius = dist(ax,ay,bx,by)\n",
        "    angle += math.atan2(ay-by, ax-bx)\n",
        "    return (\n",
        "        round(bx + radius * math.cos(angle)),\n",
        "        round(by + radius * math.sin(angle))\n",
        "    )\n"
      ]
    },
    {
      "cell_type": "code",
      "execution_count": null,
      "metadata": {
        "colab": {
          "base_uri": "https://localhost:8080/",
          "height": 356
        },
        "id": "2hY0MMKzin9w",
        "outputId": "33e92959-3e7c-439f-b0c3-b2b20502858b"
      },
      "outputs": [
        {
          "ename": "NameError",
          "evalue": "ignored",
          "output_type": "error",
          "traceback": [
            "\u001b[0;31m---------------------------------------------------------------------------\u001b[0m",
            "\u001b[0;31mNameError\u001b[0m                                 Traceback (most recent call last)",
            "\u001b[0;32m<ipython-input-4-5a7b2b551195>\u001b[0m in \u001b[0;36m<module>\u001b[0;34m\u001b[0m\n\u001b[1;32m    180\u001b[0m     \u001b[0;32mreturn\u001b[0m \u001b[0mimage\u001b[0m\u001b[0;34m\u001b[0m\u001b[0;34m\u001b[0m\u001b[0m\n\u001b[1;32m    181\u001b[0m \u001b[0;34m\u001b[0m\u001b[0m\n\u001b[0;32m--> 182\u001b[0;31m \u001b[0msqs\u001b[0m \u001b[0;34m=\u001b[0m \u001b[0mconvert2shapely\u001b[0m\u001b[0;34m(\u001b[0m\u001b[0;34m[\u001b[0m\u001b[0;34m(\u001b[0m\u001b[0mrandom\u001b[0m\u001b[0;34m.\u001b[0m\u001b[0muniform\u001b[0m\u001b[0;34m(\u001b[0m\u001b[0;36m50\u001b[0m\u001b[0;34m,\u001b[0m \u001b[0;36m150\u001b[0m\u001b[0;34m)\u001b[0m\u001b[0;34m,\u001b[0m \u001b[0mrandom\u001b[0m\u001b[0;34m.\u001b[0m\u001b[0muniform\u001b[0m\u001b[0;34m(\u001b[0m\u001b[0;36m50\u001b[0m\u001b[0;34m,\u001b[0m \u001b[0;36m150\u001b[0m\u001b[0;34m)\u001b[0m\u001b[0;34m,\u001b[0m \u001b[0mrandom\u001b[0m\u001b[0;34m.\u001b[0m\u001b[0muniform\u001b[0m\u001b[0;34m(\u001b[0m\u001b[0;36m1\u001b[0m\u001b[0;34m,\u001b[0m \u001b[0;36m2\u001b[0m\u001b[0;34m*\u001b[0m\u001b[0mmath\u001b[0m\u001b[0;34m.\u001b[0m\u001b[0mpi\u001b[0m\u001b[0;34m)\u001b[0m\u001b[0;34m)\u001b[0m \u001b[0;32mfor\u001b[0m \u001b[0mi\u001b[0m \u001b[0;32min\u001b[0m \u001b[0mrange\u001b[0m\u001b[0;34m(\u001b[0m\u001b[0;36m5\u001b[0m\u001b[0;34m)\u001b[0m\u001b[0;34m]\u001b[0m\u001b[0;34m)\u001b[0m\u001b[0;34m\u001b[0m\u001b[0;34m\u001b[0m\u001b[0m\n\u001b[0m\u001b[1;32m    183\u001b[0m \u001b[0mgraphBoxes\u001b[0m\u001b[0;34m(\u001b[0m\u001b[0msqs\u001b[0m\u001b[0;34m,\u001b[0m \u001b[0mverbose\u001b[0m\u001b[0;34m=\u001b[0m\u001b[0;32mTrue\u001b[0m\u001b[0;34m)\u001b[0m\u001b[0;34m\u001b[0m\u001b[0;34m\u001b[0m\u001b[0m\n\u001b[1;32m    184\u001b[0m     \u001b[0;31m#             polygons.remove(p)\u001b[0m\u001b[0;34m\u001b[0m\u001b[0;34m\u001b[0m\u001b[0;34m\u001b[0m\u001b[0m\n",
            "\u001b[0;32m<ipython-input-4-5a7b2b551195>\u001b[0m in \u001b[0;36mconvert2shapely\u001b[0;34m(squares, side_len)\u001b[0m\n\u001b[1;32m     99\u001b[0m \u001b[0;34m\u001b[0m\u001b[0m\n\u001b[1;32m    100\u001b[0m \u001b[0;32mdef\u001b[0m \u001b[0mconvert2shapely\u001b[0m\u001b[0;34m(\u001b[0m\u001b[0msquares\u001b[0m\u001b[0;34m:\u001b[0m\u001b[0mList\u001b[0m\u001b[0;34m[\u001b[0m\u001b[0mTuple\u001b[0m\u001b[0;34m[\u001b[0m\u001b[0mfloat\u001b[0m\u001b[0;34m,\u001b[0m \u001b[0mfloat\u001b[0m\u001b[0;34m,\u001b[0m \u001b[0mfloat\u001b[0m\u001b[0;34m]\u001b[0m\u001b[0;34m]\u001b[0m\u001b[0;34m,\u001b[0m \u001b[0mside_len\u001b[0m\u001b[0;34m:\u001b[0m\u001b[0mfloat\u001b[0m\u001b[0;34m=\u001b[0m\u001b[0;36m1.0\u001b[0m\u001b[0;34m)\u001b[0m \u001b[0;34m->\u001b[0m \u001b[0mList\u001b[0m\u001b[0;34m[\u001b[0m\u001b[0mPolygon\u001b[0m\u001b[0;34m]\u001b[0m\u001b[0;34m:\u001b[0m\u001b[0;34m\u001b[0m\u001b[0;34m\u001b[0m\u001b[0m\n\u001b[0;32m--> 101\u001b[0;31m     \u001b[0;32mreturn\u001b[0m \u001b[0;34m[\u001b[0m\u001b[0mPolygon\u001b[0m\u001b[0;34m(\u001b[0m\u001b[0mcorners\u001b[0m\u001b[0;34m)\u001b[0m \u001b[0;32mfor\u001b[0m \u001b[0mcorners\u001b[0m \u001b[0;32min\u001b[0m \u001b[0mcompute_corners\u001b[0m\u001b[0;34m(\u001b[0m\u001b[0msquares\u001b[0m\u001b[0;34m,\u001b[0m \u001b[0msideLen\u001b[0m\u001b[0;34m=\u001b[0m\u001b[0mside_len\u001b[0m\u001b[0;34m)\u001b[0m\u001b[0;34m]\u001b[0m\u001b[0;34m\u001b[0m\u001b[0;34m\u001b[0m\u001b[0m\n\u001b[0m\u001b[1;32m    102\u001b[0m \u001b[0;34m\u001b[0m\u001b[0m\n\u001b[1;32m    103\u001b[0m \u001b[0;32mdef\u001b[0m \u001b[0mget_overlapping_polygons\u001b[0m\u001b[0;34m(\u001b[0m\u001b[0msquares\u001b[0m\u001b[0;34m:\u001b[0m \u001b[0mList\u001b[0m\u001b[0;34m[\u001b[0m\u001b[0mTuple\u001b[0m\u001b[0;34m[\u001b[0m\u001b[0mfloat\u001b[0m\u001b[0;34m,\u001b[0m \u001b[0mfloat\u001b[0m\u001b[0;34m,\u001b[0m \u001b[0mfloat\u001b[0m\u001b[0;34m]\u001b[0m\u001b[0;34m]\u001b[0m\u001b[0;34m,\u001b[0m \u001b[0mside_len\u001b[0m\u001b[0;34m:\u001b[0m \u001b[0mfloat\u001b[0m \u001b[0;34m=\u001b[0m \u001b[0;36m1.0\u001b[0m\u001b[0;34m)\u001b[0m \u001b[0;34m->\u001b[0m \u001b[0mList\u001b[0m\u001b[0;34m[\u001b[0m\u001b[0mPolygon\u001b[0m\u001b[0;34m]\u001b[0m\u001b[0;34m:\u001b[0m\u001b[0;34m\u001b[0m\u001b[0;34m\u001b[0m\u001b[0m\n",
            "\u001b[0;31mNameError\u001b[0m: name 'compute_corners' is not defined"
          ]
        }
      ],
      "source": [
        "\n",
        "# Credit for this function goes to ChatGPT\n",
        "''' \n",
        "def overlap_area(squares: List[Tuple[float, float, float]]) -> float:\n",
        "    # Create a dictionary to keep track of the number of squares overlapping each point\n",
        "    overlap_counts = {}\n",
        "    \n",
        "    for rotated_corners in compute_corners(squares):\n",
        "        # Add 1 to the overlap count for each point that this square covers\n",
        "        for i in range(len(rotated_corners)):\n",
        "            p1, p2 = rotated_corners[i], rotated_corners[(i+1)%len(rotated_corners)]\n",
        "            for x in range(math.ceil(min(p1[0], p2[0])), math.floor(max(p1[0], p2[0]))):\n",
        "                for y in range(math.ceil(min(p1[1], p2[1])), math.floor(max(p1[1], p2[1]))):\n",
        "                    if (x, y) in overlap_counts:\n",
        "                        overlap_counts[(x, y)] += 1\n",
        "                    else:\n",
        "                        overlap_counts[(x, y)] = 1\n",
        "    \n",
        "    # Compute the total area of overlap by summing the area of each overlapping square\n",
        "    overlap_area = 0\n",
        "    for count in overlap_counts.values():\n",
        "        if count > 1:\n",
        "            overlap_area += 1\n",
        "    \n",
        "    return overlap_area\n",
        " '''\n",
        "''' \n",
        "def compute_intersection(p1, q1, p2, q2):\n",
        "    x1, y1 = p1\n",
        "    x2, y2 = q1\n",
        "    x3, y3 = p2\n",
        "    x4, y4 = q2\n",
        "\n",
        "    denom = (y4-y3)*(x2-x1) - (x4-x3)*(y2-y1)\n",
        "    if denom == 0:\n",
        "        return None\n",
        "    ua = ((x4-x3)*(y1-y3) - (y4-y3)*(x1-x3)) / denom\n",
        "    ub = ((x2-x1)*(y1-y3) - (y2-y1)*(x1-x3)) / denom\n",
        "\n",
        "    if 0 <= ua <= 1 and 0 <= ub <= 1:\n",
        "        return (x1 + ua*(x2-x1), y1 + ua*(y2-y1))\n",
        "    else:\n",
        "        return None\n",
        "\n",
        "\n",
        "def overlap_area(squares: List[Tuple[float, float, float]]) -> float:\n",
        "    # Create a set to keep track of all the overlapping points\n",
        "    overlap_points = set()\n",
        "    \n",
        "    # Iterate over all pairs of squares\n",
        "    for i in range(len(squares)):\n",
        "        for j in range(i+1, len(squares)):\n",
        "            # Compute the corners of each square\n",
        "            corners_i = compute_corners([squares[i]])[0]\n",
        "            corners_j = compute_corners([squares[j]])[0]\n",
        "            \n",
        "            # Iterate over all pairs of edges\n",
        "            for k in range(len(corners_i)):\n",
        "                for l in range(len(corners_j)):\n",
        "                    # Compute the intersection point of the edges\n",
        "                    p = compute_intersection(corners_i[k], corners_i[(k+1)%len(corners_i)], corners_j[l], corners_j[(l+1)%len(corners_j)])\n",
        "                    if p is not None:\n",
        "                        overlap_points.add(p)\n",
        "    \n",
        "    # Compute the total area of overlap as the sum of the areas of the triangles formed by each set of three adjacent points\n",
        "    overlap_area = 0\n",
        "    overlap_points = sorted(list(overlap_points))\n",
        "    for i in range(1, len(overlap_points)-1):\n",
        "        a, b, c = overlap_points[i-1], overlap_points[i], overlap_points[i+1]\n",
        "        overlap_area += abs((b[0]-a[0])*(c[1]-a[1]) - (c[0]-a[0])*(b[1]-a[1]))/2\n",
        "    \n",
        "    return overlap_area\n",
        " '''\n",
        "from shapely.geometry import Polygon, MultiPolygon\n",
        "''' \n",
        "def get_overlapping_polygons(squares: List[Tuple[float, float, float]]) -> List[Polygon]:\n",
        "    polygons = []\n",
        "    for square in squares:\n",
        "        x, y, rad = square\n",
        "        # calculate the coordinates of the four corners of the square\n",
        "        p1 = (x + 0.5 * cos(rad - pi / 4), y + 0.5 * sin(rad - pi / 4))\n",
        "        p2 = (x + 0.5 * cos(rad + pi / 4), y + 0.5 * sin(rad + pi / 4))\n",
        "        p3 = (x + 0.5 * cos(rad + 3 * pi / 4), y + 0.5 * sin(rad + 3 * pi / 4))\n",
        "        p4 = (x + 0.5 * cos(rad - 3 * pi / 4), y + 0.5 * sin(rad - 3 * pi / 4))\n",
        "        # create a polygon from the four corners\n",
        "        polygon = Polygon([p1, p2, p3, p4])\n",
        "        # check if this polygon overlaps with any of the previously created polygons\n",
        "        overlaps = False\n",
        "        for p in polygons:\n",
        "            if polygon.intersects(p):\n",
        "                overlaps = True\n",
        "                # merge the overlapping polygons\n",
        "                polygon = polygon.union(p)\n",
        "                polygons.remove(p)\n",
        "        if not overlaps:\n",
        "            # add the polygon to the list\n",
        "            polygons.append(polygon)\n",
        "    return polygons\n",
        " '''\n",
        "\n",
        "def convert2shapely(squares:List[Tuple[float, float, float]], side_len:float=1.0) -> List[Polygon]:\n",
        "    return [Polygon(corners) for corners in compute_corners(squares, sideLen=side_len)]\n",
        "\n",
        "def get_overlapping_polygons(squares: List[Tuple[float, float, float]], side_len: float = 1.0) -> List[Polygon]:\n",
        "    overlap = []\n",
        "    squares = convert2shapely(squares)\n",
        "    for p1 in squares:\n",
        "        for p2 in squares:\n",
        "            if p1 == p2:\n",
        "                continue\n",
        "            if p1.intersects(p2):\n",
        "                print('Intersection detected')\n",
        "                overlap.append(p1.union(p2))\n",
        "    return overlap\n",
        "        \n",
        "    # for x, y, rad in squares:\n",
        "    #     # compute the corners of the square based on its center and orientation\n",
        "    #     corners = compute_corners([square], side_len)[0]\n",
        "    #     # create a polygon from the corners\n",
        "    #     polygon = Polygon(corners)\n",
        "    #     # check if this polygon overlaps with any of the previously created polygons\n",
        "    #     overlaps = False\n",
        "    #     for p in polygons:\n",
        "    #         if polygon.intersects(p):\n",
        "    #             overlaps = True\n",
        "    #             # merge the overlapping polygons\n",
        "    #             polygon = polygon.union(p)def drawBox(draw, x, y, rot, sideLen):\n",
        "    square_vertices = (\n",
        "        (x + sideLen / 2, y + sideLen / 2),\n",
        "        (x + sideLen / 2, y - sideLen / 2),\n",
        "        (x - sideLen / 2, y - sideLen / 2),\n",
        "        (x - sideLen / 2, y + sideLen / 2)\n",
        "    )\n",
        "\n",
        "    square_vertices = [rotated_about(_x, _y, x, y, rot) for _x, _y in square_vertices]\n",
        "    draw.polygon(square_vertices, fill='#FF7B00')\n",
        "\n",
        "\n",
        "def graphBoxes(squares:List[Tuple['x','y','rad']], squareSize=20, verbose=False):\n",
        "    print(f'Size is: {get_bounding_box(compute_corners(squares, squareSize), square=True):.3f}')\n",
        "    print(f'Overlapping area is: {overlap_area(squares)}')\n",
        "    print(f'Wasted Space is: ')\n",
        "\n",
        "    # Create image\n",
        "    image = Image.new(\"RGB\", (200, 200), \"white\")\n",
        "    draw = ImageDraw.Draw(image)\n",
        "\n",
        "    # Do some calculations\n",
        "    corners = compute_corners(squares, squareSize)\n",
        "    cornersX, cornersY = np.array(corners).T\n",
        "    bottomRight = cornersX.max(), cornersY.max()\n",
        "    topLeft = cornersX.min(), cornersY.min()\n",
        "\n",
        "    # Draw all the boxes\n",
        "    for x, y, rad in squares:\n",
        "        drawBox(draw, x, y, rad, squareSize)\n",
        "        \n",
        "    if verbose:\n",
        "        # Draw the corners\n",
        "        for x, y in flatten(corners, levels=1):\n",
        "            draw.ellipse((x-2, y-2, x+2, y+2), fill='#3DAEE9')\n",
        "\n",
        "        # Draw the bounding box corners\n",
        "        for x, y in (topLeft, bottomRight):\n",
        "            draw.ellipse((x-2, y-2, x+2, y+2), fill='#F4C02C')\n",
        "\n",
        "        # Draw bounding box\n",
        "        w, h = get_bounding_box(corners, square=False)\n",
        "        draw.rectangle((topLeft, (topLeft[0]+w, topLeft[1]+h)), outline='#383838')\n",
        "\n",
        "        # Draw bounding square\n",
        "        w = get_bounding_box(corners, square=True)\n",
        "        draw.rectangle((topLeft, (topLeft[0]+w, topLeft[1]+w)), outline='#8399A4')\n",
        "\n",
        "        # Draw the overlapping areas\n",
        "        for polygon in get_overlapping_polygons(squares, side_len=squareSize):\n",
        "            vertices = polygon.exterior.coords\n",
        "            # draw the polygon using the polygon method\n",
        "            draw.polygon(vertices, fill=(255, 0, 0, 128), outline=(255, 0, 0, 255))\n",
        "\n",
        "    return image\n",
        "    \n",
        "sqs = convert2shapely([(random.uniform(50, 150), random.uniform(50, 150), random.uniform(1, 2*math.pi)) for i in range(5)])\n",
        "graphBoxes(sqs, verbose=True)\n",
        "    #             polygons.remove(p)\n",
        "    #     if not overlaps:\n",
        "    #         # add the polygon to the list\n",
        "    #         polygons.append(polygon)\n",
        "    # return polygons"
      ]
    },
    {
      "cell_type": "code",
      "execution_count": null,
      "metadata": {
        "id": "2BT9jY5GzrO3"
      },
      "outputs": [],
      "source": [
        "# convert2shapely([(random.uniform(50, 150), random.uniform(50, 150), random.uniform(1, 2*math.pi)) for i in range(4)])[0]"
      ]
    },
    {
      "cell_type": "code",
      "execution_count": null,
      "metadata": {
        "id": "QE9yXuSvkiWa"
      },
      "outputs": [],
      "source": [
        "def get_bounding_box(corners, square=False):\n",
        "    x, y = np.array(corners).T\n",
        "    if square:\n",
        "        return max(x.max() - x.min(), y.max() - y.min())\n",
        "    else:\n",
        "        return x.max() - x.min(), y.max() - y.min()\n"
      ]
    },
    {
      "cell_type": "code",
      "execution_count": null,
      "metadata": {
        "id": "s9pGIF6tM-uw"
      },
      "outputs": [],
      "source": [
        "def drawBox(draw, polygon):\n",
        "    square_vertices = (\n",
        "        (x + sideLen / 2, y + sideLen / 2),\n",
        "        (x + sideLen / 2, y - sideLen / 2),\n",
        "        (x - sideLen / 2, y - sideLen / 2),\n",
        "        (x - sideLen / 2, y + sideLen / 2)\n",
        "    )\n",
        "\n",
        "    square_vertices = [rotated_about(_x, _y, x, y, rot) for _x, _y in square_vertices]\n",
        "    draw.polygon(polygon.exterior.coords, fill='#FF7B00')\n",
        "\n",
        "\n",
        "def graphBoxes(squares:MultiPolygon, squareSize=20, verbose=False):\n",
        "    print(f'Size is: {get_bounding_box(compute_corners(squares, squareSize), square=True):.3f}')\n",
        "    print(f'Overlapping area is: {overlap_area(squares)}')\n",
        "    print(f'Wasted Space is: ')\n",
        "\n",
        "    # Create image\n",
        "    image = Image.new(\"RGB\", (200, 200), \"white\")\n",
        "    draw = ImageDraw.Draw(image)\n",
        "\n",
        "    # Do some calculations\n",
        "    corners = compute_corners(squares, squareSize)\n",
        "    cornersX, cornersY = np.array(corners).T\n",
        "    bottomRight = cornersX.max(), cornersY.max()\n",
        "    topLeft = cornersX.min(), cornersY.min()\n",
        "\n",
        "    # Draw all the boxes\n",
        "    for x, y, rad in squares:\n",
        "        drawBox(draw, x, y, rad, squareSize)\n",
        "        \n",
        "    if verbose:\n",
        "        # Draw the corners\n",
        "        for x, y in flatten(corners, levels=1):\n",
        "            draw.ellipse((x-2, y-2, x+2, y+2), fill='#3DAEE9')\n",
        "\n",
        "        # Draw the bounding box corners\n",
        "        for x, y in (topLeft, bottomRight):\n",
        "            draw.ellipse((x-2, y-2, x+2, y+2), fill='#F4C02C')\n",
        "\n",
        "        # Draw bounding box\n",
        "        w, h = get_bounding_box(corners, square=False)\n",
        "        draw.rectangle((topLeft, (topLeft[0]+w, topLeft[1]+h)), outline='#383838')\n",
        "\n",
        "        # Draw bounding square\n",
        "        w = get_bounding_box(corners, square=True)\n",
        "        draw.rectangle((topLeft, (topLeft[0]+w, topLeft[1]+w)), outline='#8399A4')\n",
        "\n",
        "        # Draw the overlapping areas\n",
        "        for polygon in get_overlapping_polygons(squares, side_len=squareSize):\n",
        "            vertices = polygon.exterior.coords\n",
        "            # draw the polygon using the polygon method\n",
        "            draw.polygon(vertices, fill=(255, 0, 0, 128), outline=(255, 0, 0, 255))\n",
        "\n",
        "    return image\n",
        "    \n",
        "sqs = convert2shapely([(random.uniform(50, 150), random.uniform(50, 150), random.uniform(1, 2*math.pi)) for i in range(5)], side_len=20)\n",
        "graphBoxes(sqs, verbose=True)"
      ]
    },
    {
      "cell_type": "code",
      "execution_count": null,
      "metadata": {
        "id": "aD24OBGf0bWW"
      },
      "outputs": [],
      "source": [
        "def drawBox(draw, x, y, rot, sideLen):\n",
        "    square_vertices = (\n",
        "        (x + sideLen / 2, y + sideLen / 2),\n",
        "        (x + sideLen / 2, y - sideLen / 2),\n",
        "        (x - sideLen / 2, y - sideLen / 2),\n",
        "        (x - sideLen / 2, y + sideLen / 2)\n",
        "    )\n",
        "\n",
        "    square_vertices = [rotated_about(_x, _y, x, y, rot) for _x, _y in square_vertices]\n",
        "    draw.polygon(square_vertices, fill='#FF7B00')\n",
        "\n",
        "\n",
        "def graphBoxes(squares:List[Tuple['x','y','rad']], squareSize=20, verbose=False):\n",
        "    print(f'Size is: {get_bounding_box(compute_corners(squares, squareSize), square=True):.3f}')\n",
        "    print(f'Overlapping area is: {overlap_area(squares)}')\n",
        "    print(f'Wasted Space is: ')\n",
        "\n",
        "    # Create image\n",
        "    image = Image.new(\"RGB\", (200, 200), \"white\")\n",
        "    draw = ImageDraw.Draw(image)\n",
        "\n",
        "    # Do some calculations\n",
        "    corners = compute_corners(squares, squareSize)\n",
        "    cornersX, cornersY = np.array(corners).T\n",
        "    bottomRight = cornersX.max(), cornersY.max()\n",
        "    topLeft = cornersX.min(), cornersY.min()\n",
        "\n",
        "    # Draw all the boxes\n",
        "    for x, y, rad in squares:\n",
        "        drawBox(draw, x, y, rad, squareSize)\n",
        "        \n",
        "    if verbose:\n",
        "        # Draw the corners\n",
        "        for x, y in flatten(corners, levels=1):\n",
        "            draw.ellipse((x-2, y-2, x+2, y+2), fill='#3DAEE9')\n",
        "\n",
        "        # Draw the bounding box corners\n",
        "        for x, y in (topLeft, bottomRight):\n",
        "            draw.ellipse((x-2, y-2, x+2, y+2), fill='#F4C02C')\n",
        "\n",
        "        # Draw bounding box\n",
        "        w, h = get_bounding_box(corners, square=False)\n",
        "        draw.rectangle((topLeft, (topLeft[0]+w, topLeft[1]+h)), outline='#383838')\n",
        "\n",
        "        # Draw bounding square\n",
        "        w = get_bounding_box(corners, square=True)\n",
        "        draw.rectangle((topLeft, (topLeft[0]+w, topLeft[1]+w)), outline='#8399A4')\n",
        "\n",
        "        # Draw the overlapping areas\n",
        "        for polygon in get_overlapping_polygons(squares, side_len=squareSize):\n",
        "            vertices = polygon.exterior.coords\n",
        "            # draw the polygon using the polygon method\n",
        "            draw.polygon(vertices, fill=(255, 0, 0, 128), outline=(255, 0, 0, 255))\n",
        "\n",
        "    return image\n",
        "    \n",
        "sqs = [(random.uniform(50, 150), random.uniform(50, 150), random.uniform(1, 2*math.pi)) for i in range(5)]\n",
        "graphBoxes(sqs, verbose=True)"
      ]
    },
    {
      "cell_type": "markdown",
      "metadata": {
        "id": "UGIM7Tv7kUvV"
      },
      "source": [
        "# Setting up the loss function"
      ]
    },
    {
      "cell_type": "code",
      "execution_count": null,
      "metadata": {
        "id": "mlQI8Ar1j4al"
      },
      "outputs": [],
      "source": [
        "def compute_corners(squares: List[Tuple[float, float, float]], sideLen=1):\n",
        "    rtn = []\n",
        "    for x, y, rot_rad in squares:\n",
        "        # Compute the coordinates of the four corners of the square\n",
        "        half_side = sideLen / 2\n",
        "        corners = [(half_side, half_side), (half_side, -half_side), (-half_side, -half_side), (-half_side, half_side)]\n",
        "        rotated_corners = []\n",
        "        for corner in corners:\n",
        "            rotated_x = x + corner[0]*math.cos(rot_rad) - corner[1]*math.sin(rot_rad)\n",
        "            rotated_y = y + corner[0]*math.sin(rot_rad) + corner[1]*math.cos(rot_rad)\n",
        "            rotated_corners.append((rotated_x, rotated_y))\n",
        "        rtn.append(rotated_corners)\n",
        "    return rtn"
      ]
    },
    {
      "cell_type": "code",
      "execution_count": null,
      "metadata": {
        "id": "Q0Cxf9l_j7Ho"
      },
      "outputs": [],
      "source": [
        "def overlap_area(multi):\n",
        "    overlapArea = 0\n",
        "    for i, square1 in enumerate(multi.geoms):\n",
        "        for square2 in list(multi.geoms)[i+1:]:\n",
        "            if square1.intersects(square2):\n",
        "                overlapArea += square1.intersection(square2).area\n",
        "    return overlapArea\n",
        "\n",
        "def side_len(polygon):\n",
        "    x, y = polygon.minimum_rotated_rectangle.exterior.coords.xy\n",
        "    edge_length = (Point(x[0], y[0]).distance(Point(x[1], y[1])), Point(x[1], y[1]).distance(Point(x[2], y[2])))\n",
        "    return max(edge_length)\n",
        "\n",
        "def wasted_space(multi):\n",
        "    side = side_len(multi)\n",
        "    return side**2 - multi.area"
      ]
    },
    {
      "cell_type": "code",
      "execution_count": null,
      "metadata": {
        "id": "MBI8TpPmpVkZ"
      },
      "outputs": [],
      "source": [
        "def lossFunc(squares:MultiPolygon):\n",
        "    score = 0\n",
        "    if not squares.is_valid:\n",
        "        # We don't like it when they overlap at all\n",
        "        score -= 1000\n",
        "        # We don't like it when they overlap a lot\n",
        "        score -= math.e**overlap_area(squares)\n",
        "    \n",
        "    score -= wasted_space(squares)\n",
        "    score -= side_len(squares)\n",
        "    return score"
      ]
    },
    {
      "cell_type": "code",
      "execution_count": null,
      "metadata": {
        "id": "ni0FwLQKpDwU"
      },
      "outputs": [],
      "source": [
        "N=11\n",
        "verbose = True\n",
        "scale = 1\n",
        "space = N*scale # Optimal: 3.789, best known: 3.877084\n",
        "seed = 42"
      ]
    },
    {
      "cell_type": "code",
      "execution_count": null,
      "metadata": {
        "colab": {
          "base_uri": "https://localhost:8080/",
          "height": 208
        },
        "id": "IvzVoVQm2mzu",
        "outputId": "b5bdbd63-e634-4a9b-d43f-4e3f854084fe"
      },
      "outputs": [
        {
          "ename": "NameError",
          "evalue": "name 'MultiPolygon' is not defined",
          "output_type": "error",
          "traceback": [
            "\u001b[0;31m---------------------------------------------------------------------------\u001b[0m",
            "\u001b[0;31mNameError\u001b[0m                                 Traceback (most recent call last)",
            "\u001b[1;32m/home/leonard/hello/python/AI/SquarePacking/SquarePackingWithNN.ipynb Cell 14\u001b[0m in \u001b[0;36m<module>\u001b[0;34m\u001b[0m\n\u001b[1;32m      <a href='vscode-notebook-cell:/home/leonard/hello/python/AI/SquarePacking/SquarePackingWithNN.ipynb#X16sZmlsZQ%3D%3D?line=0'>1</a>\u001b[0m \u001b[39m# This is useful. I don't know *how*, but it's got to be somehow\u001b[39;00m\n\u001b[1;32m      <a href='vscode-notebook-cell:/home/leonard/hello/python/AI/SquarePacking/SquarePackingWithNN.ipynb#X16sZmlsZQ%3D%3D?line=1'>2</a>\u001b[0m \u001b[39m# squares.convex_hull\u001b[39;00m\n\u001b[0;32m----> <a href='vscode-notebook-cell:/home/leonard/hello/python/AI/SquarePacking/SquarePackingWithNN.ipynb#X16sZmlsZQ%3D%3D?line=2'>3</a>\u001b[0m squares \u001b[39m=\u001b[39m MultiPolygon(convert2shapely([(random\u001b[39m.\u001b[39muniform(\u001b[39m0\u001b[39m, space), random\u001b[39m.\u001b[39muniform(\u001b[39m0\u001b[39m, space), random\u001b[39m.\u001b[39muniform(\u001b[39m1\u001b[39m, \u001b[39m2\u001b[39m\u001b[39m*\u001b[39mmath\u001b[39m.\u001b[39mpi)) \u001b[39mfor\u001b[39;00m i \u001b[39min\u001b[39;00m \u001b[39mrange\u001b[39m(N)], side_len\u001b[39m=\u001b[39mscale))\n\u001b[1;32m      <a href='vscode-notebook-cell:/home/leonard/hello/python/AI/SquarePacking/SquarePackingWithNN.ipynb#X16sZmlsZQ%3D%3D?line=4'>5</a>\u001b[0m \u001b[39mif\u001b[39;00m verbose:\n\u001b[1;32m      <a href='vscode-notebook-cell:/home/leonard/hello/python/AI/SquarePacking/SquarePackingWithNN.ipynb#X16sZmlsZQ%3D%3D?line=5'>6</a>\u001b[0m     display(unary_union((squares, squares\u001b[39m.\u001b[39mminimum_rotated_rectangle\u001b[39m.\u001b[39mexterior)))\n",
            "\u001b[0;31mNameError\u001b[0m: name 'MultiPolygon' is not defined"
          ]
        }
      ],
      "source": [
        "# This is useful. I don't know *how*, but it's got to be somehow\n",
        "# squares.convex_hull\n",
        "squares = MultiPolygon(convert2shapely([(random.uniform(0, space), random.uniform(0, space), random.uniform(1, 2*math.pi)) for i in range(N)], side_len=scale))\n",
        "\n",
        "if verbose:\n",
        "    display(unary_union((squares, squares.minimum_rotated_rectangle.exterior)))\n",
        "else:\n",
        "    display(squares)\n",
        "\n",
        "print(f'Overlaps: {not squares.is_valid}')\n",
        "print(f'Overlap Area: {overlap_area(squares):.3f}')\n",
        "print(f'Side Length: {side_len(squares):.3f}')\n",
        "print(f'Wasted Space: {wasted_space(squares):.2f}')\n",
        "print(f'Loss: {lossFunc(squares)}')\n"
      ]
    },
    {
      "attachments": {},
      "cell_type": "markdown",
      "metadata": {
        "id": "dPgj1X7op1LN"
      },
      "source": [
        "# Testing gym"
      ]
    },
    {
      "cell_type": "code",
      "execution_count": 1,
      "metadata": {},
      "outputs": [
        {
          "name": "stderr",
          "output_type": "stream",
          "text": [
            "2023-03-11 20:40:06.138711: I tensorflow/core/platform/cpu_feature_guard.cc:193] This TensorFlow binary is optimized with oneAPI Deep Neural Network Library (oneDNN) to use the following CPU instructions in performance-critical operations:  AVX2 AVX512F AVX512_VNNI FMA\n",
            "To enable them in other operations, rebuild TensorFlow with the appropriate compiler flags.\n",
            "2023-03-11 20:40:06.670970: I tensorflow/core/util/port.cc:104] oneDNN custom operations are on. You may see slightly different numerical results due to floating-point round-off errors from different computation orders. To turn them off, set the environment variable `TF_ENABLE_ONEDNN_OPTS=0`.\n",
            "2023-03-11 20:40:06.771181: W tensorflow/compiler/xla/stream_executor/platform/default/dso_loader.cc:64] Could not load dynamic library 'libcudart.so.11.0'; dlerror: libcudart.so.11.0: cannot open shared object file: No such file or directory; LD_LIBRARY_PATH: /home/leonard/.local/lib/python3.10/site-packages/cv2/../../lib64:\n",
            "2023-03-11 20:40:06.771773: I tensorflow/compiler/xla/stream_executor/cuda/cudart_stub.cc:29] Ignore above cudart dlerror if you do not have a GPU set up on your machine.\n",
            "2023-03-11 20:40:08.073411: W tensorflow/compiler/xla/stream_executor/platform/default/dso_loader.cc:64] Could not load dynamic library 'libnvinfer.so.7'; dlerror: libnvinfer.so.7: cannot open shared object file: No such file or directory; LD_LIBRARY_PATH: /home/leonard/.local/lib/python3.10/site-packages/cv2/../../lib64:\n",
            "2023-03-11 20:40:08.073978: W tensorflow/compiler/xla/stream_executor/platform/default/dso_loader.cc:64] Could not load dynamic library 'libnvinfer_plugin.so.7'; dlerror: libnvinfer_plugin.so.7: cannot open shared object file: No such file or directory; LD_LIBRARY_PATH: /home/leonard/.local/lib/python3.10/site-packages/cv2/../../lib64:\n",
            "2023-03-11 20:40:08.073985: W tensorflow/compiler/tf2tensorrt/utils/py_utils.cc:38] TF-TRT Warning: Cannot dlopen some TensorRT libraries. If you would like to use Nvidia GPU with TensorRT, please make sure the missing libraries mentioned above are installed properly.\n"
          ]
        },
        {
          "name": "stdout",
          "output_type": "stream",
          "text": [
            "Defaulting to user installation because normal site-packages is not writeable\n",
            "Obtaining file:///home/leonard/hello/python/AI/SquarePacking/SquarePacking\n",
            "  Preparing metadata (setup.py) ... \u001b[?25ldone\n",
            "\u001b[?25hRequirement already satisfied: gymnasium in /home/leonard/.local/lib/python3.10/site-packages (from SquarePacking==0.0.1) (0.27.1)\n",
            "Requirement already satisfied: matplotlib in /home/leonard/.local/lib/python3.10/site-packages (from SquarePacking==0.0.1) (3.5.1)\n",
            "Requirement already satisfied: typing-extensions>=4.3.0 in /home/leonard/.local/lib/python3.10/site-packages (from gymnasium->SquarePacking==0.0.1) (4.5.0)\n",
            "Requirement already satisfied: numpy>=1.21.0 in /home/leonard/.local/lib/python3.10/site-packages (from gymnasium->SquarePacking==0.0.1) (1.21.6)\n",
            "Requirement already satisfied: jax-jumpy>=0.2.0 in /home/leonard/.local/lib/python3.10/site-packages (from gymnasium->SquarePacking==0.0.1) (0.2.0)\n",
            "Requirement already satisfied: cloudpickle>=1.2.0 in /home/leonard/.local/lib/python3.10/site-packages (from gymnasium->SquarePacking==0.0.1) (2.1.0)\n",
            "Requirement already satisfied: gymnasium-notices>=0.0.1 in /home/leonard/.local/lib/python3.10/site-packages (from gymnasium->SquarePacking==0.0.1) (0.0.1)\n",
            "Requirement already satisfied: packaging>=20.0 in /home/leonard/.local/lib/python3.10/site-packages (from matplotlib->SquarePacking==0.0.1) (21.3)\n",
            "Requirement already satisfied: python-dateutil>=2.7 in /usr/lib/python3.10/site-packages (from matplotlib->SquarePacking==0.0.1) (2.8.1)\n",
            "Requirement already satisfied: kiwisolver>=1.0.1 in /home/leonard/.local/lib/python3.10/site-packages (from matplotlib->SquarePacking==0.0.1) (1.4.0)\n",
            "Requirement already satisfied: pyparsing>=2.2.1 in /home/leonard/.local/lib/python3.10/site-packages (from matplotlib->SquarePacking==0.0.1) (3.0.7)\n",
            "Requirement already satisfied: fonttools>=4.22.0 in /home/leonard/.local/lib/python3.10/site-packages (from matplotlib->SquarePacking==0.0.1) (4.31.1)\n",
            "Requirement already satisfied: pillow>=6.2.0 in /home/leonard/.local/lib/python3.10/site-packages (from matplotlib->SquarePacking==0.0.1) (9.0.1)\n",
            "Requirement already satisfied: cycler>=0.10 in /home/leonard/.local/lib/python3.10/site-packages (from matplotlib->SquarePacking==0.0.1) (0.11.0)\n",
            "Requirement already satisfied: six>=1.5 in /usr/lib/python3.10/site-packages (from python-dateutil>=2.7->matplotlib->SquarePacking==0.0.1) (1.16.0)\n",
            "Installing collected packages: SquarePacking\n",
            "  Attempting uninstall: SquarePacking\n",
            "    Found existing installation: SquarePacking 0.0.1\n",
            "    Uninstalling SquarePacking-0.0.1:\n",
            "      Successfully uninstalled SquarePacking-0.0.1\n",
            "  Running setup.py develop for SquarePacking\n",
            "Successfully installed SquarePacking\n"
          ]
        }
      ],
      "source": [
        "# !pip install gymnasium\n",
        "from typing import Union, Tuple, List\n",
        "from PIL import Image, ImageDraw\n",
        "import math\n",
        "import random\n",
        "from sympy import flatten\n",
        "from numpy.linalg import norm\n",
        "\n",
        "import numpy as np\n",
        "from typing import List, Tuple\n",
        "import math\n",
        "from math import cos, sin, tan, pi\n",
        "from shapely.geometry import MultiPolygon, Polygon, Point\n",
        "from shapely.affinity import rotate\n",
        "from shapely.ops import unary_union\n",
        "\n",
        "import gymnasium as gym\n",
        "\n",
        "# import tensorflow as tf\n",
        "# from tensorflow import keras\n",
        "# from tensorflow.keras import layers\n",
        "%load_ext autoreload\n",
        "%autoreload 2\n",
        "!pip install -e SquarePacking"
      ]
    },
    {
      "cell_type": "code",
      "execution_count": 20,
      "metadata": {
        "id": "Xf3AmSbrp35V"
      },
      "outputs": [
        {
          "data": {
            "text/plain": [
              "(array([8.89, 5.73, 0.15, 3.85, 6.65, 0.47, 9.93, 0.71, 1.5 , 8.48, 8.56,\n",
              "        1.52, 3.13, 0.75, 0.4 , 9.24, 4.52, 0.71, 5.33, 5.32, 1.26, 9.07,\n",
              "        1.77, 0.46, 0.33, 8.82, 0.64, 2.91, 5.44, 0.45]),\n",
              " {'overlap': 0, 'len': 12.165494733690133, 'wasted': 137.99926211544238})"
            ]
          },
          "metadata": {},
          "output_type": "display_data"
        }
      ],
      "source": [
        "# from SquarePacking.SquarePacking.SquareEnv import SquareEnv\n",
        "import SquarePacking.env\n",
        "import gymnasium as gym\n",
        "seed = 42\n",
        "\n",
        "env = gym.make(\"SquarePacking/Square-v0\", N=10, render_mode=\"pygame\", shift_rate=.05, rot_rate=.05, bound_method='loop', flatten=True, boundary=1)\n",
        "display(env.reset())\n",
        "# env = SquareEnv(N=4, search_space=None, shift_rate=.01, rot_rate=.001)"
      ]
    },
    {
      "cell_type": "code",
      "execution_count": 45,
      "metadata": {},
      "outputs": [],
      "source": [
        "import time\n",
        "\n",
        "# action = np.array([(\n",
        "#             random.uniform(-env.shift_rate, env.shift_rate),\n",
        "#             random.uniform(-env.shift_rate, env.shift_rate),\n",
        "#             random.uniform(-env.rot_rate,   env.rot_rate)\n",
        "#         ) for _ in range(env.N)])\n",
        "\n",
        "env.reset()\n",
        "action = np.array([(-env.shift_rate, -env.shift_rate, -env.rot_rate) for _ in range(env.N)]).flatten()\n",
        "\n",
        "for _ in range(200):\n",
        "    time.sleep(.02)\n",
        "    obs, reward, done, _, info = env.step(action)\n",
        "    # print(obs[0])\n",
        "env.close()"
      ]
    },
    {
      "cell_type": "code",
      "execution_count": 11,
      "metadata": {},
      "outputs": [],
      "source": [
        "env.close()"
      ]
    },
    {
      "cell_type": "code",
      "execution_count": 1,
      "metadata": {},
      "outputs": [
        {
          "ename": "NameError",
          "evalue": "name 'pygame' is not defined",
          "output_type": "error",
          "traceback": [
            "\u001b[0;31m---------------------------------------------------------------------------\u001b[0m",
            "\u001b[0;31mNameError\u001b[0m                                 Traceback (most recent call last)",
            "\u001b[1;32m/home/leonard/hello/python/AI/SquarePacking/EnviormentTesting.ipynb Cell 21\u001b[0m in \u001b[0;36m<module>\u001b[0;34m\u001b[0m\n\u001b[0;32m----> <a href='vscode-notebook-cell:/home/leonard/hello/python/AI/SquarePacking/EnviormentTesting.ipynb#X26sZmlsZQ%3D%3D?line=0'>1</a>\u001b[0m pygame_surface \u001b[39m=\u001b[39m pygame\u001b[39m.\u001b[39mimage\u001b[39m.\u001b[39mload(io\u001b[39m.\u001b[39mBytesIO(env\u001b[39m.\u001b[39msquares\u001b[39m.\u001b[39msvg(\u001b[39m20\u001b[39m, \u001b[39m'\u001b[39m\u001b[39m#d12d2d\u001b[39m\u001b[39m'\u001b[39m, \u001b[39m175\u001b[39m)\u001b[39m.\u001b[39mencode()))\n",
            "\u001b[0;31mNameError\u001b[0m: name 'pygame' is not defined"
          ]
        }
      ],
      "source": [
        "pygame_surface = pygame.image.load(io.BytesIO(env.squares.svg(20, '#d12d2d', 175).encode()))"
      ]
    }
  ],
  "metadata": {
    "colab": {
      "collapsed_sections": [
        "SiuYw_AskpyL"
      ],
      "provenance": []
    },
    "kernelspec": {
      "display_name": "Python 3",
      "language": "python",
      "name": "python3"
    },
    "language_info": {
      "codemirror_mode": {
        "name": "ipython",
        "version": 3
      },
      "file_extension": ".py",
      "mimetype": "text/x-python",
      "name": "python",
      "nbconvert_exporter": "python",
      "pygments_lexer": "ipython3",
      "version": "3.10.9"
    },
    "vscode": {
      "interpreter": {
        "hash": "e7370f93d1d0cde622a1f8e1c04877d8463912d04d973331ad4851f04de6915a"
      }
    }
  },
  "nbformat": 4,
  "nbformat_minor": 0
}
